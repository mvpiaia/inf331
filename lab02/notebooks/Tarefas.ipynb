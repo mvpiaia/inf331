{
 "cells": [
  {
   "cell_type": "markdown",
   "metadata": {},
   "source": [
    "# ALUNO\n",
    "\n",
    "Marcos Vinícius Piaia - 27.238.140-8\n"
   ]
  },
  {
   "cell_type": "markdown",
   "metadata": {},
   "source": [
    "# Setup Inicial\n",
    "\n",
    "Importação da biblioteca onde os elementos estão implementados:"
   ]
  },
  {
   "cell_type": "code",
   "execution_count": 1,
   "metadata": {
    "scrolled": true
   },
   "outputs": [
    {
     "data": {
      "application/vnd.jupyter.widget-view+json": {
       "model_id": "e76d5467-7487-4811-8767-19e1becea1bb",
       "version_major": 2,
       "version_minor": 0
      },
      "method": "display_data"
     },
     "metadata": {},
     "output_type": "display_data"
    }
   ],
   "source": [
    "%classpath add jar ../../../lib/component-catalog-2020-08-04.jar"
   ]
  },
  {
   "cell_type": "markdown",
   "metadata": {},
   "source": [
    "## Tarefa 1\n",
    "\n",
    "Conecte o componente `DataSet` aos componentes de projeção e console para mostrar na tela as seguintes colunas: `name` e `age`."
   ]
  },
  {
   "cell_type": "code",
   "execution_count": 4,
   "metadata": {},
   "outputs": [
    {
     "name": "stdout",
     "output_type": "stream",
     "text": [
      "=== Attributes ===\n",
      "name, age\n",
      "\n",
      "=== Instances ===\n",
      "Rot Donnadd, 43\n",
      "Pid Mught, 38\n",
      "Thulk Lebbimp, 63\n",
      "Bouvossam Damme, 71\n",
      "Pirg Zall, 48\n",
      "Nullon Rackindock, 23\n",
      "Shor Splitturch, 35\n",
      "Ger Ackeng, 66\n",
      "Gleldo Shruck, 45\n",
      "Nadross Pilch, 60\n",
      "Sadrent Pemmir, 73\n",
      "Read Rait, 55\n",
      "Dallun Whadder, 15\n",
      "Eapplar Thorg, 25\n",
      "Blottork Patter, 68\n",
      "Darrutt Bottall, 75\n",
      "Gallir Shauch, 20\n",
      "Dirpe Polnay, 39\n",
      "Harrimp Fottiem, 65\n"
     ]
    },
    {
     "data": {
      "text/plain": [
       "null"
      ]
     },
     "execution_count": 4,
     "metadata": {},
     "output_type": "execute_result"
    }
   ],
   "source": [
    "import pt.c08componentes.s20catalog.s10ds.*;\n",
    "import pt.c08componentes.s20catalog.s20console.*;\n",
    "import pt.c08componentes.s20catalog.s30projection.*;\n",
    "\n",
    "IDataSet dataset = new DataSetComponent();\n",
    "dataset.setDataSource(\"../../../db/zombie/zombie-health-spreadsheet.csv\");\n",
    "\n",
    "\n",
    "// criando o objeto projection\n",
    "IProjection dataSetProjection = new ProjectionComponent();\n",
    "dataSetProjection.setAttributes(new String[]{\"name\", \"age\"});\n",
    "dataSetProjection.connect(dataset);\n",
    "\n",
    "IConsole console = new ConsoleComponent();\n",
    "// conectando o console ao \n",
    "console.connect(dataSetProjection);\n",
    "\n",
    "console.update();"
   ]
  },
  {
   "cell_type": "markdown",
   "metadata": {},
   "source": [
    "## Tarefa 2\n",
    "\n",
    "Conecte o componente `DataSet` aos componentes de seleção e console para mostrar na tela aquelas instâncias cujo diagnóstico seja `bacterial_infection`."
   ]
  },
  {
   "cell_type": "code",
   "execution_count": 8,
   "metadata": {},
   "outputs": [
    {
     "name": "stdout",
     "output_type": "stream",
     "text": [
      "=== Attributes ===\n",
      "name, age, paralysis, yellow_tong, member_loss, chest_pain, trembling_finger, severe_anger, history_bacteria, diagnostic, days_recovery, has_disease\n",
      "\n",
      "=== Instances ===\n",
      "Rot Donnadd, 43, t, t, f, f, f, f, f, bacterial_infection, 9, t\n",
      "Pid Mught, 38, f, t, f, f, f, f, f, bacterial_infection, 7, t\n",
      "Gleldo Shruck, 45, f, t, f, t, f, f, f, bacterial_infection, 8, t\n",
      "Read Rait, 55, t, t, f, f, f, f, f, bacterial_infection, 9, t\n",
      "Dirpe Polnay, 39, f, t, f, f, f, f, f, bacterial_infection, 7, t\n"
     ]
    },
    {
     "data": {
      "text/plain": [
       "null"
      ]
     },
     "execution_count": 8,
     "metadata": {},
     "output_type": "execute_result"
    }
   ],
   "source": [
    "import pt.c08componentes.s20catalog.s10ds.*;\n",
    "import pt.c08componentes.s20catalog.s20console.*;\n",
    "import pt.c08componentes.s20catalog.s40selection.*;\n",
    "\n",
    "IDataSet dataset = new DataSetComponent();\n",
    "dataset.setDataSource(\"../../../db/zombie/zombie-health-spreadsheet.csv\");\n",
    "\n",
    "// criando o component de seleção\n",
    "ISelection dataSetSelection = new SelectionComponent();\n",
    "dataSetSelection.setAttribute(new String(\"diagnostic\"));\n",
    "dataSetSelection.setOperator(new String(\"=\"));\n",
    "dataSetSelection.setValue(new String(\"bacterial_infection\"));\n",
    "dataSetSelection.connect(dataset);\n",
    "\n",
    "// conectando ao objeto de seleção\n",
    "IConsole console = new ConsoleComponent();\n",
    "console.connect(dataSetSelection);\n",
    "\n",
    "console.update();"
   ]
  },
  {
   "cell_type": "markdown",
   "metadata": {},
   "source": [
    "## Tarefa 3\n",
    "\n",
    "Conecte os componentes que você achar necessários para mostrar no console as colunas `name` e `age` de zumbis com `bacterial_infection`."
   ]
  },
  {
   "cell_type": "code",
   "execution_count": 10,
   "metadata": {
    "scrolled": true
   },
   "outputs": [
    {
     "name": "stdout",
     "output_type": "stream",
     "text": [
      "=== Attributes ===\n",
      "name, age\n",
      "\n",
      "=== Instances ===\n",
      "Rot Donnadd, 43\n",
      "Pid Mught, 38\n",
      "Gleldo Shruck, 45\n",
      "Read Rait, 55\n",
      "Dirpe Polnay, 39\n"
     ]
    },
    {
     "data": {
      "text/plain": [
       "null"
      ]
     },
     "execution_count": 10,
     "metadata": {},
     "output_type": "execute_result"
    }
   ],
   "source": [
    "import pt.c08componentes.s20catalog.s10ds.*;\n",
    "import pt.c08componentes.s20catalog.s20console.*;\n",
    "import pt.c08componentes.s20catalog.s40selection.*;\n",
    "import pt.c08componentes.s20catalog.s30projection.*;\n",
    "\n",
    "\n",
    "IDataSet dataset = new DataSetComponent();\n",
    "dataset.setDataSource(\"../../../db/zombie/zombie-health-spreadsheet.csv\");\n",
    "\n",
    "// criando o component de seleção\n",
    "ISelection dataSetSelection = new SelectionComponent();\n",
    "dataSetSelection.setAttribute(new String(\"diagnostic\"));\n",
    "dataSetSelection.setOperator(new String(\"=\"));\n",
    "dataSetSelection.setValue(new String(\"bacterial_infection\"));\n",
    "dataSetSelection.connect(dataset);\n",
    "\n",
    "// criando o componente de projeção\n",
    "IProjection dataSetProjection = new ProjectionComponent();\n",
    "dataSetProjection.setAttributes(new String[]{\"name\", \"age\"});\n",
    "dataSetProjection.connect(dataSetSelection);\n",
    "\n",
    "// conectando ao objeto de seleção\n",
    "IConsole console = new ConsoleComponent();\n",
    "console.connect(dataSetProjection);\n",
    "\n",
    "console.update();\n",
    "\n"
   ]
  },
  {
   "cell_type": "markdown",
   "metadata": {},
   "source": [
    "## Tarefa 4\n",
    "\n",
    "Conecte os componentes que você achar necessários para apresentar um gráfico comparativo entre idade e tempo de recuperação dos zumbis, conforme exemplo abaixo.\n",
    "\n",
    "![Graph](example1.png)"
   ]
  },
  {
   "cell_type": "code",
   "execution_count": 23,
   "metadata": {},
   "outputs": [],
   "source": [
    "%classpath add jar ../../../lib/xchart-3.5.2.jar"
   ]
  },
  {
   "cell_type": "code",
   "execution_count": 24,
   "metadata": {},
   "outputs": [
    {
     "data": {
      "text/plain": [
       "com.twosigma.beaker.javash.bkraefddc2d.ChartBubbleComponent"
      ]
     },
     "execution_count": 24,
     "metadata": {},
     "output_type": "execute_result"
    }
   ],
   "source": [
    "import java.util.ArrayList;\n",
    "import java.util.Hashtable;\n",
    "import java.util.List;\n",
    "\n",
    "import java.io.IOException;\n",
    "\n",
    "import org.knowm.xchart.BubbleChart;\n",
    "import org.knowm.xchart.BubbleChartBuilder;\n",
    "import org.knowm.xchart.SwingWrapper;\n",
    "import org.knowm.xchart.BitmapEncoder;\n",
    "import org.knowm.xchart.BitmapEncoder.BitmapFormat;\n",
    "\n",
    "import com.twosigma.beakerx.mimetype.MIMEContainer;\n",
    "import java.io.File;\n",
    "import java.nio.file.Files;\n",
    "\n",
    "import pt.c08componentes.s20catalog.s00shared.*;\n",
    "import pt.c08componentes.s20catalog.s50chart.IChart;\n",
    "\n",
    "public class ChartBubbleComponent implements IChart {\n",
    "  private BubbleChart chart = null;\n",
    "\n",
    "  private String title = \"Chart\";\n",
    "  private String xTitle = \"X\",\n",
    "                 yTitle = \"Y\";\n",
    "\n",
    "  private ITableProducer producer = null;\n",
    " \n",
    "  public void connect(ITableProducer producer) {\n",
    "    this.producer = producer;\n",
    "  }\n",
    "  \n",
    "  public ChartBubbleComponent() {\n",
    "  }\n",
    "  \n",
    "  public String getTitle() {\n",
    "    return title;\n",
    "  }\n",
    "  \n",
    "  public void setTitle(String title) {\n",
    "    this.title = title;\n",
    "  }\n",
    "\n",
    "  public String getXTitle() {\n",
    "    return xTitle;\n",
    "  }\n",
    "  \n",
    "  public void setXTitle(String title) {\n",
    "    xTitle = title;\n",
    "  }\n",
    "\n",
    "  public String getYTitle() {\n",
    "    return title;\n",
    "  }\n",
    "  \n",
    "  public void setYTitle(String title) {\n",
    "    yTitle = title;\n",
    "  }\n",
    "\n",
    "  public boolean start() {\n",
    "    boolean status = true;\n",
    "    \n",
    "    chart = new BubbleChartBuilder().width(600).height(400).title(title).xAxisTitle(xTitle).yAxisTitle(yTitle).build();\n",
    "    try{\n",
    "        \n",
    "        buildChart();         \n",
    "        BitmapEncoder.saveBitmap(chart, \"./chart\", BitmapFormat.PNG);\n",
    "        \n",
    "        File file = new File(\"chart.png\");\n",
    "        byte[] data = Files.readAllBytes(file.toPath());\n",
    "    \n",
    "        MIMEContainer image = new MIMEContainer(MIMEContainer.MIME.IMAGE_PNG, data);\n",
    "        display(image);\n",
    "      }catch(IOException ex){\n",
    "        status = false;\n",
    "        System.out.println (ex.toString());      \n",
    "      }\n",
    "        \n",
    "    return status;\n",
    "  }\n",
    "  \n",
    "  public boolean stop() {\n",
    "    return true;\n",
    "  }\n",
    "  \n",
    "  public double[] toDouble(String[][] instances, int column ) {\n",
    "    double[] numbers = new double[instances.length];\n",
    "    for (int i = 0; i < instances.length; i++)\n",
    "      numbers[i] = Double.parseDouble(instances[i][column]);\n",
    "    return numbers;\n",
    "  }\n",
    "\n",
    "  private void buildChart() {\n",
    "    if (chart != null && producer != null) {\n",
    "      String[][] instances = producer.requestInstances();\n",
    "\n",
    "      if (instances != null) {\n",
    "        double[] xData = toDouble(instances, 0),\n",
    "                 yData = toDouble(instances, 1);\n",
    "        \n",
    "        String[] categoryData = null;\n",
    "        if (instances[0].length > 2) {\n",
    "          categoryData = new String[instances.length];\n",
    "          for (int c = 0; c < instances.length; c++)\n",
    "            categoryData[c] = instances[c][2];\n",
    "        }\n",
    "        \n",
    "        double[] bubbleData = null;\n",
    "        if (instances[0].length > 3)\n",
    "          bubbleData = toDouble(producer.requestInstances(), 3);\n",
    "        else {\n",
    "          bubbleData = new double[instances.length];\n",
    "          for (int i = 0; i < xData.length; i++)\n",
    "            bubbleData[i] = 10;\n",
    "        }\n",
    "          \n",
    "        \n",
    "        if (categoryData == null ||\n",
    "            xData.length != yData.length || yData.length != bubbleData.length ||\n",
    "            bubbleData.length != categoryData.length) {\n",
    "          chart.addSeries(\" \", xData, yData, bubbleData);\n",
    "        } else {\n",
    "          Hashtable<String,String> hash = new Hashtable<String,String>();\n",
    "          int outer = 0;\n",
    "          int size = categoryData.length;\n",
    "          while (outer < size) {\n",
    "            if (hash.containsKey(categoryData[outer]))\n",
    "              outer++;\n",
    "            else {\n",
    "              hash.put(categoryData[outer],categoryData[outer]);\n",
    "              List<Double> xSub = new ArrayList<Double>(),\n",
    "                           ySub = new ArrayList<Double>(),\n",
    "                           bubbleSub = new ArrayList<Double>();\n",
    "              for (int inner = outer; inner < size; inner++)\n",
    "                if (categoryData[inner].equalsIgnoreCase(categoryData[outer])) {\n",
    "                  xSub.add(xData[inner]);\n",
    "                  ySub.add(yData[inner]);\n",
    "                  bubbleSub.add(bubbleData[inner]);\n",
    "                }\n",
    "              chart.addSeries(categoryData[outer], xSub, ySub, bubbleSub);\n",
    "              outer++;\n",
    "            }\n",
    "          }\n",
    "        }\n",
    "      }\n",
    "      \n",
    "    }\n",
    "    \n",
    "  }\n",
    "  \n",
    "}"
   ]
  },
  {
   "cell_type": "code",
   "execution_count": 26,
   "metadata": {},
   "outputs": [
    {
     "data": {
      "image/png": "[encoded data removed]"
     },
     "metadata": {},
     "output_type": "display_data"
    },
    {
     "data": {
      "text/plain": [
       "null"
      ]
     },
     "execution_count": 26,
     "metadata": {},
     "output_type": "execute_result"
    }
   ],
   "source": [
    "import pt.c08componentes.s20catalog.s10ds.*;\n",
    "import pt.c08componentes.s20catalog.s30projection.*;\n",
    "import pt.c08componentes.s20catalog.s50chart.IChart;\n",
    "\n",
    "IDataSet dataset = new DataSetComponent();\n",
    "dataset.setDataSource(\"../../../db/zombie/zombie-health-spreadsheet.csv\");\n",
    "\n",
    "// criando o componente de projeção\n",
    "IProjection dataSetProjection = new ProjectionComponent();\n",
    "dataSetProjection.setAttributes(new String[]{\"days_recovery\", \"age\"});\n",
    "dataSetProjection.connect(dataset);\n",
    "\n",
    "IChart chartElement = new ChartBubbleComponent();\n",
    "chartElement.setTitle(new String(\"Zombie Health (Age by Days for Recovery)\"));\n",
    "chartElement.setXTitle(new String(\"Days Recovery\"));\n",
    "chartElement.setYTitle(new String(\"Age\"));\n",
    "chartElement.connect(dataSetProjection);\n",
    "\n",
    "// exibindo o chart\n",
    "chartElement.start();\n",
    "chartElement.stop();"
   ]
  },
  {
   "cell_type": "markdown",
   "metadata": {},
   "source": [
    "## Tarefa 5\n",
    "\n",
    "Conecte os componentes que você achar necessários para apresentar um gráfico comparativo entre idade e tempo de recuperação dos zumbis, colorindo os pontos por diagnóstico, conforme exemplo abaixo.\n",
    "\n",
    "**Recomendação:** Se você recortar uma terceira coluna com o diagnóstico, o gráfico resultante irá colorir os pontos por diagnóstico.\n",
    "\n",
    "![Graph](example2.png)"
   ]
  },
  {
   "cell_type": "code",
   "execution_count": 27,
   "metadata": {},
   "outputs": [
    {
     "data": {
      "image/png": "[encoded data removed]"
     },
     "metadata": {},
     "output_type": "display_data"
    },
    {
     "data": {
      "text/plain": [
       "null"
      ]
     },
     "execution_count": 27,
     "metadata": {},
     "output_type": "execute_result"
    }
   ],
   "source": [
    "import pt.c08componentes.s20catalog.s10ds.*;\n",
    "import pt.c08componentes.s20catalog.s30projection.*;\n",
    "import pt.c08componentes.s20catalog.s50chart.IChart;\n",
    "\n",
    "IDataSet dataset = new DataSetComponent();\n",
    "dataset.setDataSource(\"../../../db/zombie/zombie-health-spreadsheet.csv\");\n",
    "\n",
    "// criando o componente de projeção\n",
    "IProjection dataSetProjection = new ProjectionComponent();\n",
    "dataSetProjection.setAttributes(new String[]{\"days_recovery\", \"age\", \"diagnostic\"});\n",
    "dataSetProjection.connect(dataset);\n",
    "\n",
    "IChart chartElement = new ChartBubbleComponent();\n",
    "chartElement.setTitle(new String(\"Zombie Health (Age by Days for Recovery with Diagnostic)\"));\n",
    "chartElement.setXTitle(new String(\"Days Recovery\"));\n",
    "chartElement.setYTitle(new String(\"Age\"));\n",
    "chartElement.connect(dataSetProjection);\n",
    "\n",
    "// exibindo o chart\n",
    "chartElement.start();\n",
    "chartElement.stop();"
   ]
  },
  {
   "cell_type": "markdown",
   "metadata": {},
   "source": [
    "## Tarefa 6\n",
    "\n",
    "Conecte os componentes que você achar necessários para apresentar um gráfico comparativo entre idade e tempo de recuperação, filtrando apenas a doença “bacterial_infection”."
   ]
  },
  {
   "cell_type": "code",
   "execution_count": 29,
   "metadata": {},
   "outputs": [
    {
     "data": {
      "image/png": "[encoded data removed]"
     },
     "metadata": {},
     "output_type": "display_data"
    },
    {
     "data": {
      "text/plain": [
       "null"
      ]
     },
     "execution_count": 29,
     "metadata": {},
     "output_type": "execute_result"
    }
   ],
   "source": [
    "import pt.c08componentes.s20catalog.s10ds.*;\n",
    "import pt.c08componentes.s20catalog.s30projection.*;\n",
    "import pt.c08componentes.s20catalog.s40selection.*;\n",
    "import pt.c08componentes.s20catalog.s50chart.IChart;\n",
    "\n",
    "IDataSet dataset = new DataSetComponent();\n",
    "dataset.setDataSource(\"../../../db/zombie/zombie-health-spreadsheet.csv\");\n",
    "\n",
    "// criando o component de seleção das informações\n",
    "ISelection dataSetSelection = new SelectionComponent();\n",
    "dataSetSelection.setAttribute(new String(\"diagnostic\"));\n",
    "dataSetSelection.setOperator(new String(\"=\"));\n",
    "dataSetSelection.setValue(new String(\"bacterial_infection\"));\n",
    "dataSetSelection.connect(dataset);\n",
    "\n",
    "// criando o componente de projeção\n",
    "IProjection dataSetProjection = new ProjectionComponent();\n",
    "dataSetProjection.setAttributes(new String[]{\"days_recovery\", \"age\", \"diagnostic\"});\n",
    "dataSetProjection.connect(dataSetSelection);\n",
    "\n",
    "IChart chartElement = new ChartBubbleComponent();\n",
    "chartElement.setTitle(new String(\"Zombie Health (Age by Days for Recovery for Bacterial Infection)\"));\n",
    "chartElement.setXTitle(new String(\"Days Recovery\"));\n",
    "chartElement.setYTitle(new String(\"Age\"));\n",
    "chartElement.connect(dataSetProjection);\n",
    "\n",
    "// exibindo o chart\n",
    "chartElement.start();\n",
    "chartElement.stop();"
   ]
  },
  {
   "cell_type": "code",
   "execution_count": null,
   "metadata": {},
   "outputs": [],
   "source": []
  }
 ],
 "metadata": {
  "kernelspec": {
   "display_name": "Java",
   "language": "java",
   "name": "java"
  },
  "language_info": {
   "codemirror_mode": "text/x-java",
   "file_extension": ".java",
   "mimetype": "",
   "name": "Java",
   "nbconverter_exporter": "",
   "version": "11.0.8"
  },
  "toc": {
   "base_numbering": 1,
   "nav_menu": {},
   "number_sections": false,
   "sideBar": false,
   "skip_h1_title": false,
   "title_cell": "Table of Contents",
   "title_sidebar": "Contents",
   "toc_cell": false,
   "toc_position": {},
   "toc_section_display": false,
   "toc_window_display": false
  }
 },
 "nbformat": 4,
 "nbformat_minor": 4
}
